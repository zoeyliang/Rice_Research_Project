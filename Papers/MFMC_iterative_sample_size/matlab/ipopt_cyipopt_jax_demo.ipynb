{
 "cells": [
  {
   "cell_type": "markdown",
   "id": "e010108d",
   "metadata": {},
   "source": [
    "\n",
    "### Ipopt, cyipopt demo\n",
    "**Jonathan Cangelosi, Matthias Heinkenschloss**,\n",
    "**Department of Computational Applied Mathematics and Operations Research**, **Rice University**.\n",
    "\n",
    "Last modified April 23, 2025\n",
    "\n",
    "Adopted from https://cyipopt.readthedocs.io/en/stable/tutorial.html#scipy-compatible-interface, https://cyipopt.readthedocs.io/en/stable/tutorial.html#problem-interface"
   ]
  },
  {
   "cell_type": "markdown",
   "id": "2d7899f1",
   "metadata": {},
   "source": [
    "Consider NLP\n",
    "\\begin{align*}   \n",
    "   \\text{minimize } &  f(x),  \\\\\n",
    "   \\text{subject to }  & g_{\\min} \\le g(x) \\le  g_{\\max},\\\\\n",
    "                     & x_{\\min} \\le x \\le  x_{\\max},\n",
    "\\end{align*}\n",
    "where $f: \\mathbb{R}^n \\rightarrow \\mathbb{R}$ and\n",
    "$g: \\mathbb{R}^n \\rightarrow \\mathbb{R}^m$ are smooth functions.\n",
    "\n",
    "The Lagrangian associated with this NLP is\n",
    "\\begin{align*}  \n",
    "      L(x,\\lambda) = f(x) + \\lambda^T g(x).\n",
    "\\end{align*}  \n",
    "\n",
    "Ipopt requires evaluations of $f$, $g$, the gradient $\\nabla f(x) \\in \\mathbb{R}^n$, \n",
    "the Jacobian $g'(x) \\in \\mathbb{R}^{m \\times n}$, and the Hessian of the Lagrangian\n",
    "with respect to $x$, $\\nabla_x^2 L(x,\\lambda)$.\n",
    "\n",
    "We use jax to compute the objective function gradient, the constraint Jacobian, and the Hessian of the Lagrangian.  For more details on Jax see\n",
    "https://jax.readthedocs.io/en/latest/notebooks/autodiff_cookbook.html\n"
   ]
  },
  {
   "cell_type": "code",
   "execution_count": 50,
   "id": "8bb633ea",
   "metadata": {},
   "outputs": [],
   "source": [
    "import jax\n",
    "# Enable 64 bit floating point precision\n",
    "jax.config.update(\"jax_enable_x64\", True)\n",
    " # We use the CPU instead of GPU und mute all warnings if no GPU/TPU is found.\n",
    "jax.config.update(\"jax_platform_name\", \"cpu\")\n",
    "import jax.numpy as jnp\n",
    "from jax import jit, grad, jacfwd, jacrev\n",
    "\n",
    "import cyipopt\n",
    "import numpy as np"
   ]
  },
  {
   "cell_type": "markdown",
   "id": "e9711b64",
   "metadata": {},
   "source": [
    "\n",
    "\n",
    "Example problem HS71\n",
    "\\begin{align*}   \n",
    "   \\text{minimize } \\;&  x_1 x_4 \\Big( x_1 + x_2 + x_3 \\big) + x_3,  \\\\\n",
    "   \\text{subject to }\\;  & x_1 x_2 x_3 x_4 \\ge 25,\\\\\n",
    "                     & x_1^2 +  x_2^2 +  x_3^2 +  x_4^2 = 40,\\\\\n",
    "                     & 1 \\le x \\le  5\n",
    "\\end{align*}\n",
    "from the standard Hock-Schittkowski collection.\n",
    "Initial iterate $x_0 = (1, 5, 5, 1)$."
   ]
  },
  {
   "cell_type": "code",
   "execution_count": 51,
   "id": "b6c9f96f",
   "metadata": {},
   "outputs": [],
   "source": [
    "class HS071():\n",
    "    def __init__(self):\n",
    "        self.xmin = [1.0, 1.0, 1.0, 1.0]  # lower x-bound\n",
    "        self.xmax = [5.0, 5.0, 5.0, 5.0]  # upper x-bound\n",
    "        self.gmin = [25.0, 40.0]          # lower g-bound\n",
    "        self.gmax = [2.0e19, 40.0]        # upper g-bound\n",
    "        self.x0 = [1.0, 5.0, 5.0, 1.0]    # initial iterate\n",
    "\n",
    "    def objective(self, x):\n",
    "        \"\"\"Returns the scalar value of the objective given x.\"\"\"\n",
    "        return x[0] * x[3] * jnp.sum(x[0:3]) + x[2]\n",
    "\n",
    "    def constraints(self, x):\n",
    "        \"\"\"Returns the constraints.\"\"\"\n",
    "        return jnp.array((jnp.prod(x), jnp.dot(x, x)))\n",
    "    \n",
    "    def gradient(self, x):\n",
    "        \"\"\"Returns the gradient of the objective with respect to x.\"\"\"\n",
    "        return grad(self.objective)(x)\n",
    "\n",
    "    def jacobian(self, x):\n",
    "        \"\"\"Returns the Jacobian of the constraints with respect to x.\"\"\"\n",
    "        return jacrev(self.constraints)(x)\n",
    "\n",
    "    def hessianstructure(self):\n",
    "        \"\"\"Returns the row and column indices for non-zero vales of the\n",
    "        Hessian.\"\"\"\n",
    "\n",
    "        # NOTE: The default hessian structure is of a lower triangular matrix,\n",
    "        # therefore this function is redundant. It is included as an example\n",
    "        # for structure callback.\n",
    "\n",
    "        return np.nonzero(np.tril(np.ones((4, 4))))\n",
    "\n",
    "    def hessian(self, x, lagrange, obj_factor):\n",
    "        \"\"\"Returns the non-zero values of the Hessian.\"\"\"\n",
    "\n",
    "        H = obj_factor*jacfwd(jacrev(self.objective))(x)\n",
    "        H += jacfwd(lambda x: jnp.matmul(lagrange, jacrev(self.constraints)(x)))(x)\n",
    "\n",
    "        row, col = self.hessianstructure()\n",
    "\n",
    "        return H[row, col]\n",
    "\n",
    "    def intermediate(self, alg_mod, iter_count, obj_value, inf_pr, inf_du, mu,\n",
    "                     d_norm, regularization_size, alpha_du, alpha_pr,\n",
    "                     ls_trials):\n",
    "        \"\"\"Prints information at every Ipopt iteration.\"\"\"\n",
    "        print('iter  obj_value  inf_pr     inf_du     mu        '\\\n",
    "              'd_norm     reg_size   alpha_du   alpha_pr    ls_trials')\n",
    "        print('{0:4d} {1:10.3e} {2:10.3e} {3:10.3e} {4:10.3e} {5:10.3e} '\\\n",
    "                '{6:10.3e} {7:10.3e} {8:10.3e} {9:4d}'.format(\\\n",
    "              iter_count, obj_value, inf_pr, inf_du, mu,\\\n",
    "              d_norm, regularization_size, alpha_du, alpha_pr, ls_trials))"
   ]
  },
  {
   "cell_type": "code",
   "execution_count": 52,
   "id": "e911018e",
   "metadata": {},
   "outputs": [],
   "source": [
    "nlp = cyipopt.Problem(\n",
    "   n=len(HS071().x0),\n",
    "   m=len(HS071().gmin),\n",
    "   problem_obj=HS071(),\n",
    "   lb=HS071().xmin,\n",
    "   ub=HS071().xmax,\n",
    "   cl=HS071().gmin,\n",
    "   cu=HS071().gmax,\n",
    ")"
   ]
  },
  {
   "cell_type": "code",
   "execution_count": 53,
   "id": "8db4994d",
   "metadata": {},
   "outputs": [],
   "source": [
    "nlp.add_option('mu_strategy', 'adaptive')\n",
    "nlp.add_option('tol', 1e-7)"
   ]
  },
  {
   "cell_type": "code",
   "execution_count": 54,
   "id": "53c991f6",
   "metadata": {},
   "outputs": [
    {
     "name": "stdout",
     "output_type": "stream",
     "text": [
      "This is Ipopt version 3.14.16, running with linear solver MUMPS 5.7.3.\n",
      "\n",
      "Number of nonzeros in equality constraint Jacobian...:        4\n",
      "Number of nonzeros in inequality constraint Jacobian.:        4\n",
      "Number of nonzeros in Lagrangian Hessian.............:       10\n",
      "\n",
      "Total number of variables............................:        4\n",
      "                     variables with only lower bounds:        0\n",
      "                variables with lower and upper bounds:        4\n",
      "                     variables with only upper bounds:        0\n",
      "Total number of equality constraints.................:        1\n",
      "Total number of inequality constraints...............:        1\n",
      "        inequality constraints with only lower bounds:        1\n",
      "   inequality constraints with lower and upper bounds:        0\n",
      "        inequality constraints with only upper bounds:        0\n",
      "\n",
      "iter  obj_value  inf_pr     inf_du     mu        d_norm     reg_size   alpha_du   alpha_pr    ls_trials\n",
      "   0  1.611e+01  1.124e+01  5.276e-01  1.000e+00  0.000e+00  0.000e+00  0.000e+00  0.000e+00    0\n",
      "iter    objective    inf_pr   inf_du lg(mu)  ||d||  lg(rg) alpha_du alpha_pr  ls\n",
      "   0  1.6109693e+01 1.12e+01 5.28e-01   0.0 0.00e+00    -  0.00e+00 0.00e+00   0\n",
      "iter  obj_value  inf_pr     inf_du     mu        d_norm     reg_size   alpha_du   alpha_pr    ls_trials\n",
      "   1  1.741e+01  8.382e-01  2.249e+01  5.306e-01  7.968e-01  0.000e+00  3.193e-01  1.000e+00    1\n",
      "   1  1.7410406e+01 7.49e-01 2.25e+01  -0.3 7.97e-01    -  3.19e-01 1.00e+00f  1\n",
      "iter  obj_value  inf_pr     inf_du     mu        d_norm     reg_size   alpha_du   alpha_pr    ls_trials\n",
      "   2  1.800e+01  1.061e-02  4.963e+00  4.928e-01  5.601e-02  1.000e+02  9.970e-01  1.000e+00    1\n",
      "   2  1.8001613e+01 7.52e-03 4.96e+00  -0.3 5.60e-02   2.0 9.97e-01 1.00e+00h  1\n",
      "iter  obj_value  inf_pr     inf_du     mu        d_norm     reg_size   alpha_du   alpha_pr    ls_trials\n",
      "   3  1.720e+01  9.043e-02  4.239e-01  9.335e-02  9.915e-01  0.000e+00  9.984e-01  1.000e+00    1\n",
      "   3  1.7199482e+01 4.00e-02 4.24e-01  -1.0 9.91e-01    -  9.98e-01 1.00e+00f  1\n",
      "iter  obj_value  inf_pr     inf_du     mu        d_norm     reg_size   alpha_du   alpha_pr    ls_trials\n",
      "   4  1.694e+01  2.088e-01  4.578e-02  3.881e-02  2.875e-01  0.000e+00  9.664e-01  1.000e+00    1\n",
      "   4  1.6940955e+01 1.59e-01 4.58e-02  -1.4 2.88e-01    -  9.66e-01 1.00e+00h  1\n",
      "iter  obj_value  inf_pr     inf_du     mu        d_norm     reg_size   alpha_du   alpha_pr    ls_trials\n",
      "   5  1.700e+01  2.292e-02  8.416e-03  1.286e-03  7.030e-02  0.000e+00  9.675e-01  1.000e+00    1\n",
      "   5  1.7003411e+01 2.16e-02 8.42e-03  -2.9 7.03e-02    -  9.68e-01 1.00e+00h  1\n",
      "iter  obj_value  inf_pr     inf_du     mu        d_norm     reg_size   alpha_du   alpha_pr    ls_trials\n",
      "   6  1.701e+01  2.593e-04  8.647e-05  3.312e-05  6.224e-03  0.000e+00  1.000e+00  1.000e+00    1\n",
      "   6  1.7013974e+01 2.03e-04 8.65e-05  -4.5 6.22e-03    -  1.00e+00 1.00e+00h  1\n",
      "iter  obj_value  inf_pr     inf_du     mu        d_norm     reg_size   alpha_du   alpha_pr    ls_trials\n",
      "   7  1.701e+01  2.877e-07  2.182e-07  4.661e-11  1.431e-04  0.000e+00  9.994e-01  9.998e-01    1\n",
      "   7  1.7014017e+01 2.76e-07 2.18e-07 -10.3 1.43e-04    -  9.99e-01 1.00e+00h  1\n",
      "iter  obj_value  inf_pr     inf_du     mu        d_norm     reg_size   alpha_du   alpha_pr    ls_trials\n",
      "   8  1.701e+01  1.066e-13  2.078e-14  1.000e-11  1.040e-07  0.000e+00  1.000e+00  1.000e+00    1\n",
      "   8  1.7014017e+01 2.13e-14 2.08e-14 -11.0 1.04e-07    -  1.00e+00 1.00e+00h  1\n",
      "\n",
      "Number of Iterations....: 8\n",
      "\n",
      "                                   (scaled)                 (unscaled)\n",
      "Objective...............:   1.7014017140224134e+01    1.7014017140224134e+01\n",
      "Dual infeasibility......:   2.0782183294760672e-14    2.0782183294760672e-14\n",
      "Constraint violation....:   2.1316282072803006e-14    2.1316282072803006e-14\n",
      "Variable bound violation:   9.9907857542547163e-09    9.9907857542547163e-09\n",
      "Complementarity.........:   1.0023967333275288e-11    1.0023967333275288e-11\n",
      "Overall NLP error.......:   1.0023967333275288e-11    1.0023967333275288e-11\n",
      "\n",
      "\n",
      "Number of objective function evaluations             = 9\n",
      "Number of objective gradient evaluations             = 9\n",
      "Number of equality constraint evaluations            = 9\n",
      "Number of inequality constraint evaluations          = 9\n",
      "Number of equality constraint Jacobian evaluations   = 9\n",
      "Number of inequality constraint Jacobian evaluations = 9\n",
      "Number of Lagrangian Hessian evaluations             = 8\n",
      "Total seconds in IPOPT                               = 0.167\n",
      "\n",
      "EXIT: Optimal Solution Found.\n"
     ]
    }
   ],
   "source": [
    "x, info = nlp.solve(HS071().x0)"
   ]
  },
  {
   "cell_type": "code",
   "execution_count": 55,
   "id": "baa56ee3",
   "metadata": {},
   "outputs": [
    {
     "data": {
      "text/plain": [
       "array([0.99999999, 4.74299964, 3.82114998, 1.37940829])"
      ]
     },
     "execution_count": 55,
     "metadata": {},
     "output_type": "execute_result"
    }
   ],
   "source": [
    "x"
   ]
  },
  {
   "cell_type": "code",
   "execution_count": 56,
   "id": "453a698d",
   "metadata": {},
   "outputs": [
    {
     "data": {
      "text/plain": [
       "{'x': array([0.99999999, 4.74299964, 3.82114998, 1.37940829]),\n",
       " 'g': array([24.99999975, 40.        ]),\n",
       " 'obj_val': 17.014017140224134,\n",
       " 'mult_g': array([-0.55229366,  0.16146856]),\n",
       " 'mult_x_L': array([1.08787121e+00, 2.67160763e-12, 3.54491149e-12, 2.63544924e-11]),\n",
       " 'mult_x_U': array([2.49994270e-12, 3.89698412e-11, 8.48203576e-12, 2.76216310e-12]),\n",
       " 'status': 0,\n",
       " 'status_msg': b'Algorithm terminated successfully at a locally optimal point, satisfying the convergence tolerances (can be specified by options).'}"
      ]
     },
     "execution_count": 56,
     "metadata": {},
     "output_type": "execute_result"
    }
   ],
   "source": [
    "info"
   ]
  },
  {
   "cell_type": "code",
   "execution_count": null,
   "id": "853ce637",
   "metadata": {},
   "outputs": [],
   "source": []
  },
  {
   "cell_type": "code",
   "execution_count": null,
   "id": "9b4c1903",
   "metadata": {},
   "outputs": [],
   "source": []
  }
 ],
 "metadata": {
  "kernelspec": {
   "display_name": "research",
   "language": "python",
   "name": "python3"
  },
  "language_info": {
   "codemirror_mode": {
    "name": "ipython",
    "version": 3
   },
   "file_extension": ".py",
   "mimetype": "text/x-python",
   "name": "python",
   "nbconvert_exporter": "python",
   "pygments_lexer": "ipython3",
   "version": "3.13.2"
  }
 },
 "nbformat": 4,
 "nbformat_minor": 5
}
